{
 "cells": [
  {
   "cell_type": "code",
   "execution_count": 8,
   "metadata": {},
   "outputs": [],
   "source": [
    "# import libraries\n",
    "import pandas as pd\n",
    "import numpy as np\n",
    "import matplotlib.pyplot as plt\n",
    "import seaborn as sns\n",
    "\n",
    "\n",
    "# set plot theme\n",
    "plt.style.use('ggplot')\n",
    "\n",
    "# set dataframe display \n",
    "pd.set_option('display.max_columns', None)\n",
    "pd.set_option('display.max_colwidth', 10000)\n",
    "pd.set_option('display.max_rows', None)\n",
    "pd.set_option('display.width', 10000)"
   ]
  },
  {
   "cell_type": "code",
   "execution_count": 9,
   "metadata": {},
   "outputs": [
    {
     "name": "stdout",
     "output_type": "stream",
     "text": [
      "   id Sex  Length  Diameter  Height     Weight  Shucked Weight  Viscera Weight  Shell Weight  Age\n",
      "0   0   I  1.5250    1.1750  0.3750  28.973189       12.728926        6.647958      8.348928    9\n",
      "1   1   I  1.1000    0.8250  0.2750  10.418441        4.521745        2.324659      3.401940    8\n",
      "2   2   M  1.3875    1.1125  0.3750  24.777463       11.339800        5.556502      6.662133    9\n",
      "3   3   F  1.7000    1.4125  0.5000  50.660556       20.354941       10.991839     14.996885   11\n",
      "4   4   I  1.2500    1.0125  0.3375  23.289114       11.977664        4.507570      5.953395    8\n"
     ]
    }
   ],
   "source": [
    "# import training data\n",
    "train_raw = pd.read_csv('../data/train.csv')\n",
    "\n",
    "print(train_raw.head())"
   ]
  },
  {
   "cell_type": "code",
   "execution_count": 10,
   "metadata": {},
   "outputs": [
    {
     "name": "stdout",
     "output_type": "stream",
     "text": [
      "      id Sex  Length  Diameter  Height     Weight  Shucked Weight  Viscera Weight  Shell Weight\n",
      "0  74051   I  1.0500    0.7625  0.2750   8.618248        3.657085        1.729319      2.721552\n",
      "1  74052   I  1.1625    0.8875  0.2750  15.507176        7.030676        3.246018      3.968930\n",
      "2  74053   F  1.2875    0.9875  0.3250  14.571643        5.556502        3.883882      4.819415\n",
      "3  74054   F  1.5500    0.9875  0.3875  28.377849       13.380964        6.548735      7.030676\n",
      "4  74055   I  1.1125    0.8500  0.2625  11.765042        5.528153        2.466407      3.331066\n"
     ]
    }
   ],
   "source": [
    "# import test data\n",
    "test_raw = pd.read_csv('../data/test.csv')\n",
    "\n",
    "print(test_raw.head())"
   ]
  }
 ],
 "metadata": {
  "kernelspec": {
   "display_name": ".venv",
   "language": "python",
   "name": "python3"
  },
  "language_info": {
   "codemirror_mode": {
    "name": "ipython",
    "version": 3
   },
   "file_extension": ".py",
   "mimetype": "text/x-python",
   "name": "python",
   "nbconvert_exporter": "python",
   "pygments_lexer": "ipython3",
   "version": "3.12.3"
  }
 },
 "nbformat": 4,
 "nbformat_minor": 2
}
