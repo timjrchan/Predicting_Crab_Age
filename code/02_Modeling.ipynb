{
 "cells": [
  {
   "cell_type": "code",
   "execution_count": null,
   "metadata": {},
   "outputs": [],
   "source": [
    "# import libraries\n",
    "import pandas as pd\n",
    "import numpy as np\n",
    "import xgboost as xgb\n",
    "from sklearn.model_selection import train_test_split\n",
    "from sklearn.metrics import mean_absolute_error, mean_squared_error, r2_score\n",
    "\n",
    "\n",
    "# set plot theme\n",
    "plt.style.use('ggplot')\n",
    "\n",
    "# set dataframe display \n",
    "pd.set_option('display.max_columns', None)\n",
    "pd.set_option('display.max_colwidth', 10000)\n",
    "pd.set_option('display.max_rows', None)\n",
    "pd.set_option('display.width', 10000)\n",
    "\n"
   ]
  },
  {
   "cell_type": "code",
   "execution_count": null,
   "metadata": {},
   "outputs": [],
   "source": [
    "# As there are multiple outliers within the dataset, we will scale the values of the independent variables with standard scaler\n",
    "\n",
    "from sklearn.preprocessing import StandardScaler, OneHotEncoder\n",
    "from sklearn.compose import ColumnTransformer\n",
    "from sklearn.pipeline import Pipeline\n",
    "\n",
    "\n",
    "\n",
    "preprocessor = ColumnTransformer(\n",
    "    transformers=[\n",
    "        ('num', StandardScaler(), ['length', 'diameter', 'height', 'weight', 'shucked_weight', 'viscera_weight', 'shell_weight']),\n",
    "        ('cat', OneHotEncoder(), ['sex'])\n",
    "    ]\n",
    ")\n",
    "\n",
    "# apply transformations\n",
    "scaled_data = preprocessor.fit_transform(train_df)\n",
    "\n",
    "# get column headers\n",
    "column_names = preprocessor.get_feature_names_out()\n",
    "\n",
    "# Convert transformed data back to Dataframe\n",
    "scaled_df = pd.DataFrame(scaled_data, columns=column_names)\n",
    "\n",
    "scaled_df['age'] = train_df['age'] # add target variable to df\n",
    "\n",
    "print(scaled_df.head()) # debug"
   ]
  },
  {
   "cell_type": "code",
   "execution_count": null,
   "metadata": {},
   "outputs": [],
   "source": [
    "# Seperating the target and response variables\n",
    "y = scaled_df['age'] # target variable\n",
    "X = scaled_df.iloc[:, :-1] # independent variable"
   ]
  },
  {
   "cell_type": "markdown",
   "metadata": {},
   "source": [
    "# Models\n",
    "\n",
    "#### Linear Regression"
   ]
  },
  {
   "cell_type": "code",
   "execution_count": null,
   "metadata": {},
   "outputs": [],
   "source": [
    "from sklearn.linear_model import LinearRegression\n",
    "from sklearn.model_selection import cross_validate\n",
    "\n",
    "linreg = LinearRegression()\n",
    "\n",
    "lin_reg_cv = cross_validate(linreg, X, y, cv=5,\n",
    "                            scoring = ('neg_mean_absolute_error', 'neg_mean_squared_error', 'r2'),\n",
    "                            return_train_score = True)\n",
    "\n",
    "# Print the results\n",
    "print('Linear Regression Cross Validation Results: ')\n",
    "\n",
    "for k,v in lin_reg_cv.items():\n",
    "    print(k,v)\n"
   ]
  },
  {
   "cell_type": "code",
   "execution_count": null,
   "metadata": {},
   "outputs": [],
   "source": [
    "# Function to get CV results out\n",
    "\n",
    "def get_cv_results(model, X,y, no_of_folds):\n",
    "\n",
    "    '''\n",
    "    \n",
    "    '''\n",
    "\n",
    "    cv_results = cross_validate(model, X, y, cv = no_of_folds,\n",
    "                                scoring = ('neg_mean_absolute_error', 'neg_mean_squared_error', 'r2'),\n",
    "                                return_train_score = True)\n",
    "    \n",
    "    print('Cross Validation Results:')\n",
    "\n",
    "    for k,v in cv_results.items():\n",
    "        print(k,v)"
   ]
  },
  {
   "cell_type": "code",
   "execution_count": null,
   "metadata": {},
   "outputs": [],
   "source": [
    "get_cv_results(linreg, X, y,)"
   ]
  },
  {
   "cell_type": "markdown",
   "metadata": {},
   "source": [
    "Looking at the cross validations scores from Linear Regression Model, we can see that the "
   ]
  },
  {
   "cell_type": "markdown",
   "metadata": {},
   "source": [
    "#### XGBoost"
   ]
  },
  {
   "cell_type": "code",
   "execution_count": null,
   "metadata": {},
   "outputs": [],
   "source": [
    "\n",
    "\n",
    "X_train, X_test, y_train, y_test = train_test_split(X,y, test_size=0.2, random_state=42)\n",
    "\n",
    "\n",
    "model = xgb.XGBRegressor()\n",
    "\n",
    "model = model.fit(X_train, y_train)"
   ]
  }
 ],
 "metadata": {
  "language_info": {
   "name": "python"
  }
 },
 "nbformat": 4,
 "nbformat_minor": 2
}
